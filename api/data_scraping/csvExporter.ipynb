{
 "cells": [
  {
   "cell_type": "code",
   "execution_count": 1,
   "id": "bca8dbab-c2c0-49d0-abd7-3fd2479d159b",
   "metadata": {},
   "outputs": [],
   "source": [
    "import mysql.connector\n",
    "import csv"
   ]
  },
  {
   "cell_type": "code",
   "execution_count": 2,
   "id": "c4f33014-0e0f-487d-a821-30bad342af54",
   "metadata": {},
   "outputs": [],
   "source": [
    "db_config = {\n",
    "    'host': 'localhost',    \n",
    "    'user': 'ivy',        \n",
    "    'password': '',           \n",
    "    'database': 'Soridata_kpop_db' \n",
    "}"
   ]
  },
  {
   "cell_type": "code",
   "execution_count": 3,
   "id": "b21485ad-f18e-488d-a69e-ec4646f7935c",
   "metadata": {},
   "outputs": [],
   "source": [
    "def get_db_connection():\n",
    "    \"\"\"Establish connection to the MySQL database.\"\"\"\n",
    "    try:\n",
    "        conn = mysql.connector.connect(**db_config)\n",
    "        return conn\n",
    "    except mysql.connector.Error as err:\n",
    "        print(f\"Error: {err}\")\n",
    "        return None\n",
    "\n",
    "def export_to_csv(query, filename):\n",
    "    \"\"\"Exports data from the database to a CSV file.\"\"\"\n",
    "    conn = get_db_connection()\n",
    "    \n",
    "    if conn is None:\n",
    "        print(\"Failed to connect to the database.\")\n",
    "        return\n",
    "    \n",
    "    cursor = conn.cursor()\n",
    "    \n",
    "    try:\n",
    "        cursor.execute(query)\n",
    "        rows = cursor.fetchall()\n",
    "\n",
    "        # get col names\n",
    "        columns = [column[0] for column in cursor.description]\n",
    "\n",
    "        # write to csv\n",
    "        with open(filename, mode='w', newline='') as file:\n",
    "            writer = csv.writer(file)\n",
    "            writer.writerow(columns)  # column headers\n",
    "            writer.writerows(rows)    # rows\n",
    "        \n",
    "        print(f\"Data exported to {filename} successfully.\")\n",
    "    \n",
    "    except mysql.connector.Error as err:\n",
    "        print(f\"Error: {err}\")\n",
    "    finally:\n",
    "        cursor.close()\n",
    "        conn.close()"
   ]
  },
  {
   "cell_type": "code",
   "execution_count": 6,
   "id": "d11042a7-20be-4ac7-a507-19c29757b22a",
   "metadata": {},
   "outputs": [
    {
     "name": "stdout",
     "output_type": "stream",
     "text": [
      "Data exported to allDances.csv successfully.\n",
      "Data exported to ggDances.csv successfully.\n",
      "Data exported to bgDances.csv successfully.\n"
     ]
    }
   ],
   "source": [
    "queryAll = \"\"\"\n",
    "    SELECT s.original_name, s.vlink, s.releasedate, g.members, g.name AS group_name \n",
    "    FROM app_kpop s, app_kpop_group g \n",
    "    WHERE s.id_artist = g.id AND s.original_name LIKE '%dance practice%';\n",
    "    \"\"\"\n",
    "queryGG = \"\"\"\n",
    "    SELECT s.original_name, s.vlink, s.releasedate, g.members, g.name AS group_name \n",
    "    FROM app_kpop s, app_kpop_group g \n",
    "    WHERE s.id_artist = g.id AND s.original_name LIKE '%dance practice%' AND g.members='female';\n",
    "    \"\"\"\n",
    "queryBG = \"\"\"\n",
    "    SELECT s.original_name, s.vlink, s.releasedate, g.members, g.name AS group_name \n",
    "    FROM app_kpop s, app_kpop_group g \n",
    "    WHERE s.id_artist = g.id AND s.original_name LIKE '%dance practice%' AND g.members='male';\n",
    "    \"\"\"\n",
    "\n",
    "export_to_csv(queryAll, \"allDances.csv\")\n",
    "export_to_csv(queryGG, \"ggDances.csv\")\n",
    "export_to_csv(queryBG, \"bgDances.csv\")"
   ]
  }
 ],
 "metadata": {
  "kernelspec": {
   "display_name": "Python 3 (ipykernel)",
   "language": "python",
   "name": "python3"
  },
  "language_info": {
   "codemirror_mode": {
    "name": "ipython",
    "version": 3
   },
   "file_extension": ".py",
   "mimetype": "text/x-python",
   "name": "python",
   "nbconvert_exporter": "python",
   "pygments_lexer": "ipython3",
   "version": "3.10.12"
  }
 },
 "nbformat": 4,
 "nbformat_minor": 5
}
